{
  "nbformat": 4,
  "nbformat_minor": 0,
  "metadata": {
    "colab": {
      "provenance": []
    },
    "kernelspec": {
      "name": "python3",
      "display_name": "Python 3"
    },
    "language_info": {
      "name": "python"
    },
    "accelerator": "GPU",
    "gpuClass": "standard"
  },
  "cells": [
    {
      "cell_type": "code",
      "execution_count": null,
      "metadata": {
        "id": "sED1LExmb8wj"
      },
      "outputs": [],
      "source": [
        "!pip install ultralytics=='8.0.20'\n",
        "!pip install roboflow"
      ]
    },
    {
      "cell_type": "code",
      "source": [
        "from roboflow import Roboflow\n",
        "from ultralytics import YOLO"
      ],
      "metadata": {
        "id": "mHPwv0kod6tn"
      },
      "execution_count": null,
      "outputs": []
    },
    {
      "cell_type": "code",
      "source": [
        "rf = Roboflow(api_key=\"3p7GbFdhAkTt6RXF09m7\")\n",
        "project = rf.workspace(\"ieee-ystiv\").project(\"vision-guard\")\n",
        "dataset = project.version(1).download(\"yolov8\")"
      ],
      "metadata": {
        "id": "Mb-BZ5vccVyK"
      },
      "execution_count": null,
      "outputs": []
    },
    {
      "cell_type": "code",
      "source": [
        "!yolo task=detect \\\n",
        "mode=train \\\n",
        "model=yolov8s.pt \\\n",
        "data={dataset.location}/data.yaml \\\n",
        "epochs=100 \\\n",
        "imgsz=640"
      ],
      "metadata": {
        "id": "4R6PlbSJckBa"
      },
      "execution_count": null,
      "outputs": []
    },
    {
      "cell_type": "code",
      "source": [
        "!yolo task=detect \\\n",
        "mode=val \\\n",
        "model=runs/detect/train/weights/best.pt \\\n",
        "data={dataset.location}/data.yaml"
      ],
      "metadata": {
        "id": "rv0NO44hcrSQ"
      },
      "execution_count": null,
      "outputs": []
    },
    {
      "cell_type": "code",
      "source": [
        "!yolo task=detect \\\n",
        "mode=predict \\\n",
        "model=runs/detect/train/weights/best.pt \\\n",
        "conf=0.25 \\\n",
        "source={dataset.location}/test/images"
      ],
      "metadata": {
        "id": "AmO_7QzwfS7A"
      },
      "execution_count": null,
      "outputs": []
    },
    {
      "cell_type": "code",
      "source": [
        "project.version(1).deploy(model_type='yolov8', model_path=f'runs/detect/train/')"
      ],
      "metadata": {
        "id": "FfNNXavUgS4e"
      },
      "execution_count": null,
      "outputs": []
    },
    {
      "cell_type": "code",
      "source": [],
      "metadata": {
        "id": "rFcGiT9HlTdZ"
      },
      "execution_count": null,
      "outputs": []
    }
  ]
}